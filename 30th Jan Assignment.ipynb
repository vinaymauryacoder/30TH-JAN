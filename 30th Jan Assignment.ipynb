{
 "cells": [
  {
   "cell_type": "code",
   "execution_count": 8,
   "id": "6fee9f85",
   "metadata": {},
   "outputs": [
    {
     "name": "stdout",
     "output_type": "stream",
     "text": [
      "enter the percentage76\n",
      "C\n"
     ]
    }
   ],
   "source": [
    "# ANSWER 1 : \n",
    "\n",
    "mark = int(input (\"enter the percentage  \"))\n",
    "if mark>90:\n",
    "    print(\"A\") \n",
    "    \n",
    "if mark>80 and mark<=90 :\n",
    "    print(\"B\")\n",
    "    \n",
    "if mark>=60 and mark<=80 :\n",
    "    print(\"C\")\n",
    "    \n",
    "if mark<60:\n",
    "    print(\"D\")"
   ]
  },
  {
   "cell_type": "code",
   "execution_count": 12,
   "id": "e0bf0efb",
   "metadata": {},
   "outputs": [
    {
     "name": "stdout",
     "output_type": "stream",
     "text": [
      "enter the price1200000\n",
      "Tax will be 15% \n"
     ]
    }
   ],
   "source": [
    "# ANSWER 2: \n",
    "cost = int(input(\"   enter the price  \"))\n",
    "if cost>100000:\n",
    "    print(\"Tax will be 15% \")\n",
    "    \n",
    "if  cost>50000 and cost<=100000:\n",
    "    print(\"Tax will be 10% \")\n",
    "    \n",
    "if cost<=50000:\n",
    "    print(\"Tax will be 5% \")"
   ]
  },
  {
   "cell_type": "code",
   "execution_count": 16,
   "id": "7f912b11",
   "metadata": {},
   "outputs": [
    {
     "name": "stdout",
     "output_type": "stream",
     "text": [
      "Enter the city name   jaipur\n",
      "JAL MAHAL \n"
     ]
    }
   ],
   "source": [
    "#ANSWER 3 :\n",
    "\n",
    "city = str(input (\"Enter the city name   \"))\n",
    "if city == \"delhi\":\n",
    "    print(\"RED FORT \")\n",
    "if city == \"agra\" :\n",
    "    print(\"TAJ MAHAL\")\n",
    "if city == \"jaipur\" :\n",
    "    print(\"JAL MAHAL \")\n",
    "    \n"
   ]
  },
  {
   "cell_type": "code",
   "execution_count": 4,
   "id": "07ec7edb",
   "metadata": {},
   "outputs": [
    {
     "name": "stdout",
     "output_type": "stream",
     "text": [
      "Total iteration required 3\n"
     ]
    }
   ],
   "source": [
    "# ANSWER 4 :\n",
    "\n",
    "i = 0\n",
    "d = 180\n",
    "while d >= 10:\n",
    "    \n",
    "    d = d / 3\n",
    "\n",
    "    i= i + 1\n",
    "print('Total iteration required', i)"
   ]
  },
  {
   "cell_type": "code",
   "execution_count": null,
   "id": "ed6c9051",
   "metadata": {},
   "outputs": [],
   "source": [
    "#  Answer 5 : \n",
    "Automate and repeat tasks.:  while loops execute blocks of code over until the condition is true \n",
    "                             it repeat tasks in an efficient manner.\n",
    "Indefinite Iteration :  The while loop will run as often as necessary to complete a particular task.\n",
    "Reduce complexity  :     while loop is easy to write. using the loop,we don’t need to write the statements \n",
    "                              again and again. Instead,  reducing the complexity of the code\n",
    "Infinite loop:      If the code inside the while loop doesn’t modify the variables being tested in the loop condition, \n",
    "                      the loop will run forever."
   ]
  },
  {
   "cell_type": "code",
   "execution_count": 2,
   "id": "02adcda6",
   "metadata": {},
   "outputs": [
    {
     "name": "stdout",
     "output_type": "stream",
     "text": [
      "10 9 8 7 6 5 4 3 2 1 0 "
     ]
    }
   ],
   "source": [
    "# ANSWER 7 & 8 :\n",
    "i = 10\n",
    "while i >= 0:\n",
    "    print(i, end=' ')\n",
    "    i = i - 1\n"
   ]
  },
  {
   "cell_type": "code",
   "execution_count": 8,
   "id": "b05bb772",
   "metadata": {},
   "outputs": [
    {
     "name": "stdout",
     "output_type": "stream",
     "text": [
      "['*', '*', '*', '*']\n",
      "['*', '*', '*']\n",
      "['*', '*']\n",
      "['*']\n",
      "[]\n"
     ]
    }
   ],
   "source": [
    " # ANSWER 6 :\n",
    "x = [\"*\", \"*\", \"*\", \"*\"]\n",
    "print(x)\n",
    "for i in x[:]:\n",
    "    if i == \"*\":\n",
    "        x.remove(i)\n",
    "    print(x)"
   ]
  },
  {
   "cell_type": "code",
   "execution_count": 8,
   "id": "923c6ec7",
   "metadata": {},
   "outputs": [
    {
     "name": "stdout",
     "output_type": "stream",
     "text": [
      "##\n",
      "# #\n",
      "#  #\n",
      "#   #\n",
      "#    #\n",
      "#     #\n",
      "#      #\n",
      "#       #\n",
      "#        #\n",
      "#         #\n",
      "#          #\n"
     ]
    }
   ],
   "source": [
    "num_spaces_wanted = 0\n",
    "while num_spaces_wanted < 11:\n",
    "    print('#', end='')\n",
    "    num_spaces_printed = 0\n",
    "    while num_spaces_printed < num_spaces_wanted:\n",
    "        print(' ', end='')\n",
    "        num_spaces_printed += 1\n",
    "    print('#')\n",
    "    num_spaces_wanted += 1"
   ]
  },
  {
   "cell_type": "code",
   "execution_count": 6,
   "id": "74d02bef",
   "metadata": {},
   "outputs": [
    {
     "name": "stdout",
     "output_type": "stream",
     "text": [
      "Number8\n",
      "########\n",
      "#    #\n",
      "#   #\n",
      "#  #\n",
      "# #\n",
      "##\n",
      "#\n",
      "#\n",
      "#\n",
      "#\n",
      "#\n",
      "#\n",
      "#\n",
      "#\n"
     ]
    }
   ],
   "source": [
    "rows=int(input(\"Number\"))\n",
    "s=rows//2\n",
    "for r in range(rows):\n",
    "    print(\"#\",end=\"\")\n",
    "print()\n",
    "for r in range(rows):\n",
    "    while s>=0:\n",
    "        print(\"#\"+\" \"*(s)+\"#\")\n",
    "        s=s-1\n",
    "    print(\"#\")\n"
   ]
  },
  {
   "cell_type": "code",
   "execution_count": null,
   "id": "b3c47efb",
   "metadata": {},
   "outputs": [],
   "source": [
    "\n"
   ]
  },
  {
   "cell_type": "code",
   "execution_count": null,
   "id": "887beaf3",
   "metadata": {},
   "outputs": [],
   "source": []
  }
 ],
 "metadata": {
  "kernelspec": {
   "display_name": "Python 3 (ipykernel)",
   "language": "python",
   "name": "python3"
  },
  "language_info": {
   "codemirror_mode": {
    "name": "ipython",
    "version": 3
   },
   "file_extension": ".py",
   "mimetype": "text/x-python",
   "name": "python",
   "nbconvert_exporter": "python",
   "pygments_lexer": "ipython3",
   "version": "3.9.13"
  }
 },
 "nbformat": 4,
 "nbformat_minor": 5
}
